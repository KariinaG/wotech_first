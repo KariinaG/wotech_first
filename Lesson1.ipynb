{
  "nbformat": 4,
  "nbformat_minor": 0,
  "metadata": {
    "colab": {
      "provenance": [],
      "authorship_tag": "ABX9TyPl3K/JmY7ULPO+qo7RL837",
      "include_colab_link": true
    },
    "kernelspec": {
      "name": "python3",
      "display_name": "Python 3"
    },
    "language_info": {
      "name": "python"
    }
  },
  "cells": [
    {
      "cell_type": "markdown",
      "metadata": {
        "id": "view-in-github",
        "colab_type": "text"
      },
      "source": [
        "<a href=\"https://colab.research.google.com/github/KariinaG/wotech_first/blob/main/Lesson1.ipynb\" target=\"_parent\"><img src=\"https://colab.research.google.com/assets/colab-badge.svg\" alt=\"Open In Colab\"/></a>"
      ]
    },
    {
      "cell_type": "code",
      "execution_count": null,
      "metadata": {
        "id": "OPfjNphsYgNu",
        "colab": {
          "base_uri": "https://localhost:8080/"
        },
        "outputId": "0f526f26-b8e1-4589-c276-c1f2894ec9fb"
      },
      "outputs": [
        {
          "output_type": "stream",
          "name": "stdout",
          "text": [
            "good morning\n",
            "14\n",
            "hello!\n"
          ]
        }
      ],
      "source": [
        "# this is comment\n",
        "\n",
        "text = \"good morning\"\n",
        "print(text)\n",
        "\n",
        "text = 14\n",
        "print(text)\n",
        "\n",
        "this_is_a_variable = \"hello!\"\n",
        "print(this_is_a_variable)\n",
        "#in java we have cammel case like thisIsAVariable, in Python lowercase with underline\n",
        "\n"
      ]
    },
    {
      "cell_type": "code",
      "source": [
        "name = \"Anna\"\n",
        "surname = \"Jonson\"\n",
        "age = 35\n",
        "occupation = \"Programmer\"\n",
        "university_graduate = False\n",
        "height = 172.23  #float\n",
        "\n",
        "print(name, surname, age, occupation, university_graduate,height)\n",
        "print(f\"Full name: {name} {surname} \\nOccupation: {occupation} \\nUnidegree: {university_graduate}\")"
      ],
      "metadata": {
        "id": "_b7JCm3EfMUO",
        "colab": {
          "base_uri": "https://localhost:8080/"
        },
        "outputId": "db0fe5a9-f393-4ccb-d1ef-7e61d3ebf846"
      },
      "execution_count": null,
      "outputs": [
        {
          "output_type": "stream",
          "name": "stdout",
          "text": [
            "Anna Jonson 35 Programmer False 172.23\n",
            "Full name: Anna Jonson \n",
            "Occupation: Programmer \n",
            "Unidegree: False\n"
          ]
        }
      ]
    },
    {
      "cell_type": "code",
      "source": [
        "guest_list = [\"John\", \"Anna\", \"Jeniffer\"]\n",
        "print(guest_list)"
      ],
      "metadata": {
        "colab": {
          "base_uri": "https://localhost:8080/"
        },
        "id": "_443FIELkVEg",
        "outputId": "3c169925-a598-4594-f6eb-24a995d3ac7e"
      },
      "execution_count": null,
      "outputs": [
        {
          "output_type": "stream",
          "name": "stdout",
          "text": [
            "['John', 'Anna', 'Jeniffer']\n"
          ]
        }
      ]
    },
    {
      "cell_type": "markdown",
      "source": [],
      "metadata": {
        "id": "8USepRJXo3u9"
      }
    },
    {
      "cell_type": "code",
      "source": [
        "name = \"trees \"*10\n",
        "print(name)\n",
        "# print(name, ent=\" \")"
      ],
      "metadata": {
        "colab": {
          "base_uri": "https://localhost:8080/"
        },
        "id": "WtwPKxS_nMk0",
        "outputId": "5fc0f06d-b761-4853-c36e-353edc059719"
      },
      "execution_count": null,
      "outputs": [
        {
          "output_type": "stream",
          "name": "stdout",
          "text": [
            "trees trees trees trees trees trees trees trees trees trees \n"
          ]
        }
      ]
    },
    {
      "cell_type": "code",
      "source": [
        "name = input(\"Enter your name: \")\n",
        "\n",
        "print(f'hello {name}, nice to see you here!') # this is f_string ' ' šajas pēdiņās un var is in { }\n",
        "\n",
        "print('Hi! ', name, 'nice to meet you!') # not f-string"
      ],
      "metadata": {
        "colab": {
          "base_uri": "https://localhost:8080/"
        },
        "id": "w594Qlaco7nC",
        "outputId": "4d926b36-201a-4f05-fbbc-1e408b516a78"
      },
      "execution_count": null,
      "outputs": [
        {
          "output_type": "stream",
          "name": "stdout",
          "text": [
            "Enter your name: Kariina\n",
            "hello Kariina, nice to see you here!\n",
            "Hi!  Kariina nice to meet you!\n"
          ]
        }
      ]
    },
    {
      "cell_type": "code",
      "source": [
        "print(\"Anna\", \"Johnson\")\n",
        "name = 'Nora'\n",
        "surname = 'johnson'\n",
        "print('hello' , name, '!')\n",
        "print(f'hello {name}!')\n",
        "# print('Hello', name, end='!')\n",
        "print(f'hello {name}! do you want to read \"Hamlet\"? ')"
      ],
      "metadata": {
        "colab": {
          "base_uri": "https://localhost:8080/"
        },
        "id": "636UOPG3shZ-",
        "outputId": "de6dbf0c-42fc-4f08-d88a-24b1750a0c96"
      },
      "execution_count": null,
      "outputs": [
        {
          "output_type": "stream",
          "name": "stdout",
          "text": [
            "Anna Johnson\n",
            "hello Nora !\n",
            "hello Nora!\n",
            "hello Nora! do you want to read \"Hamlet\"? \n"
          ]
        }
      ]
    },
    {
      "cell_type": "code",
      "source": [
        "name = 'Nora'\n",
        "surname = 'Timmerman'\n",
        "person_id = 567823\n",
        "age = 35\n",
        "gender = 'F'\n",
        "phone_number = 307123456\n",
        "e_mail = 'somethnig@email.com'\n",
        "\n",
        "bank_name = 'Swedbank'\n",
        "account_number = 123456789\n",
        "account_balance = 5777.89\n",
        "is_active = True\n",
        "\n",
        "print(f'Persons full name: {name} {surname}, \\nID number: {person_id}, \\nage: {age}, \\ngender: {gender}, \\nphone number: {phone_number}, \\ne-mail address: {e_mail} \\n \\nBank: {bank_name}, \\nacount number: {account_number}, \\nacctual accout balance: {account_balance} \\nis accounr active? {is_active}')\n"
      ],
      "metadata": {
        "id": "9qLUR4IMurWU",
        "colab": {
          "base_uri": "https://localhost:8080/"
        },
        "outputId": "aff6f28e-4dd2-40cf-9299-20fa93a1dcfe"
      },
      "execution_count": null,
      "outputs": [
        {
          "output_type": "stream",
          "name": "stdout",
          "text": [
            "Persons full name: Nora Timmerman, \n",
            "ID number: 567823, \n",
            "age: 35, \n",
            "gender: F, \n",
            "phone number: 307123456, \n",
            "e-mail address: somethnig@email.com \n",
            " \n",
            "Bank: Swedbank, \n",
            "acount number: 123456789, \n",
            "acctual accout balance: 5777.89 \n",
            "is accounr active? True\n"
          ]
        }
      ]
    },
    {
      "cell_type": "code",
      "source": [
        "name = input('Enter your name: ')\n",
        "surname = input('Enter your surname: ')\n",
        "person_id = 567823\n",
        "phone_number = 307123456\n",
        "e_mail = 'somethnig@email.com'\n",
        "print()\n",
        "print(f'Persons full name: {name} {surname}, \\nID number: {person_id}, \\nphone number: {phone_number}, \\ne-mail address: {e_mail}')\n",
        "print()\n",
        "\n",
        "print(f'do you want to see your account balance?')\n",
        "answer = input('if your answer is yes, enter \"Y\",  \\nif your answer is no, enter \"N\"  \\n')\n",
        "\n",
        "acc_balance = 12700.77\n",
        "\n",
        "if answer.lower() == \"y\":\n",
        "  print(f'your actual account balace is {acc_balance}')\n",
        "  withdraw_now = input('would you like to withdraw? Y or N \\n')\n",
        "  if withdraw_now.lower() == \"n\":\n",
        "    print(\"See you next time. Goodby! \")\n",
        "  elif withdraw_now.lower() == \"y\":\n",
        "    how_much = input(\"enter amout you want to withdraw: \\n\")\n",
        "    how_much = float(how_much)\n",
        "    balance_now = acc_balance - how_much\n",
        "    print(f'HERE YOU ARE! ... and now your actual account balance is: {balance_now}')\n",
        "  else:\n",
        "    print(\"you choose wrong characters!\")\n",
        "elif answer.lower() == \"n\":\n",
        "  answer_is_no = input(f'would you like to end action? Y or N ? \\n')\n",
        "  if answer_is_no.lower() == \"y\":\n",
        "    print(\"See you next time. Goodby! \")\n",
        "  elif answer_is_no.lower() == \"n\":\n",
        "      withdraw_option = input(\"ahaa.....! then there is no other options, just to withdraw some money. how much do you want? enter amount: \")\n",
        "      withdraw_option = float(withdraw_option)\n",
        "      balance_after_withdraw = acc_balance - withdraw_option\n",
        "      print(f'HERE YOU ARE! ... and now your actual account balance is: {balance_after_withdraw}')\n",
        "  else:\n",
        "    print(\"you choose wrong characters!\")\n",
        "else:\n",
        "  print(\"you choose wrong characters!\")\n"
      ],
      "metadata": {
        "id": "g-fGFmZ07db7",
        "colab": {
          "base_uri": "https://localhost:8080/"
        },
        "outputId": "7d6c0528-1f84-4b70-eb18-7434f45bdc20"
      },
      "execution_count": null,
      "outputs": [
        {
          "output_type": "stream",
          "name": "stdout",
          "text": [
            "\n",
            "Persons full name: k g, \n",
            "ID number: 567823, \n",
            "phone number: 307123456, \n",
            "e-mail address: somethnig@email.com\n",
            "\n",
            "do you want to see your account balance?\n",
            "your actual account balace is 12700.77\n",
            "See you next time. Goodby! \n"
          ]
        }
      ]
    }
  ]
}